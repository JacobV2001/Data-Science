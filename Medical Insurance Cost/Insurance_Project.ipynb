{
 "cells": [
  {
   "cell_type": "markdown",
   "id": "f72512a5-fdae-4d51-b8d0-315a209d3a40",
   "metadata": {},
   "source": [
    "# U.S. Medical Insurance Costs\n",
    "\n",
    "In this project, I will investigate a csv file with medical insurance costs using Python fundamentals. Through this \n",
    "I will analyze various attributes within insurance.csv to learn more about patient information in this file and \n",
    "gain insight into potential use cases for this dataset.\n",
    "                                     "
   ]
  },
  {
   "cell_type": "code",
   "execution_count": 1,
   "id": "671e5e1a-dd2a-4de6-9b90-d3de3dbf676f",
   "metadata": {},
   "outputs": [],
   "source": [
    "# import csv library\n",
    "import csv"
   ]
  },
  {
   "cell_type": "markdown",
   "id": "dfa4f6c2-5c25-4d23-9d42-a17da951675b",
   "metadata": {},
   "source": [
    "To start, I import any libraries I need. For this project, the only library I need is the csv library to work with insurance.csv data. Considering this, I can move on with just the 'csv' library.\n"
   ]
  },
  {
   "cell_type": "markdown",
   "id": "f03d1efd-a8dc-48ee-8741-b3855c7b536d",
   "metadata": {},
   "source": [
    "Next, I decide to look through the insurance.csv and understand the data. Things I look for are the following:\n",
    "* The names of columns and rows\n",
    "* Any noticeable missing data\n",
    "* Types of values (numerical vs. categorical)\n",
    "\n",
    "Understanding this will allow me to make any adjustments that are needed as well as form a plan on how to import the data into my Python file.\n"
   ]
  },
  {
   "cell_type": "code",
   "execution_count": 2,
   "id": "1f36fbcb-250a-4f77-9de9-b43fbe195b1c",
   "metadata": {},
   "outputs": [],
   "source": [
    "# I create empty lists for various attributes in insurance.csv \n",
    "ages = []\n",
    "sexs = []\n",
    "bmis = []\n",
    "children = []\n",
    "smokers = []\n",
    "regions = []\n",
    "charges = []"
   ]
  },
  {
   "cell_type": "markdown",
   "id": "cb30ad9b-019d-4928-b8c4-7ed80f272f2c",
   "metadata": {},
   "source": [
    "In insurance.csv, I saw the following columns:\n",
    "\n",
    "* Age\n",
    "* Sex\n",
    "* BMI\n",
    "* Number of Children\n",
    "* Smoking Status\n",
    "* Region\n",
    "* Yearly Cost\n",
    "\n",
    "I also noted that I did not see any missing data. With this information, I decided to make seven empty lists that would hold each individual column of data."
   ]
  },
  {
   "cell_type": "code",
   "execution_count": 3,
   "id": "c2896f33-10ad-44b4-b9b3-16d0c140114d",
   "metadata": {},
   "outputs": [],
   "source": [
    "# Open insurance in a context manager\n",
    "with open(\"insurance.csv\", newline = '') as insurance_docs:\n",
    "    # Write data from csv into reader variable\n",
    "    reader = csv.DictReader(insurance_docs)\n",
    "    # Iterate through the data and format variables into appropriate data types\n",
    "    for row in reader:\n",
    "        ages.append(int(row['age']))\n",
    "        sexs.append(row['sex'])\n",
    "        bmis.append(float(row['bmi']))\n",
    "        children.append(int(row['children']))\n",
    "        smokers.append(row['smoker'])\n",
    "        regions.append(row['region'])\n",
    "        charges.append(float(row['charges']))"
   ]
  },
  {
   "cell_type": "markdown",
   "id": "99c50a27-d17e-4159-96a7-5a294be33084",
   "metadata": {},
   "source": [
    "In this portion, I appended the data into the appriporate lists.\n",
    "I also decided to change the data types into the types I needed during initialization rather than when I would be computing results to save time and readability."
   ]
  },
  {
   "cell_type": "markdown",
   "id": "ef72ff5c-de91-4e16-9cab-e73c5f97f1f0",
   "metadata": {},
   "source": [
    "Now that I have all the data into labeled lists, I am ready for analysis. After reviewing the dataset, I found several interesting aspects to investigate:\n",
    "\n",
    "* Average Age\n",
    "* Average Pay\n",
    "* Average Pay (Male vs Female)\n",
    "* Total Pay Per Age Group\n",
    "* Total Pay Per Region\n",
    "* Quantity Of Male Vs Female\n",
    "* Number of Children by Gender\n",
    "* Smokers Per Region\n",
    "\n",
    "To perform these inspections, I built a class called `Analysis` with contains eight methods:\n",
    "\n",
    "* `average_age()`\n",
    "* `average_charge()`\n",
    "* `male_female_charge_average()`\n",
    "* `total_children_by_sex()`\n",
    "* `total_pay_per_region()`\n",
    "* ` male_female_counter()`\n",
    "* `smokers_per_region()`\n",
    "* `total_pay_per_age_group()`\n"
   ]
  },
  {
   "cell_type": "markdown",
   "id": "3744ea80-6f7d-4992-bd90-f066420669b1",
   "metadata": {},
   "source": [
    "# Class Structure and Initialization\n",
    "\n",
    "The `Analysis` class uses five dictionaries that are initialized and populated in the constructor (`__init__`). These dictionaries store aggregated data necessary for the analysis:\n",
    "\n",
    "* sex_count                - Contains the amount of males and females in the data.\n",
    "* total_charges_per_sex    - Contains the total amount of charges seperated by gender.\n",
    "* total_children_per_sex   - Contains the amount of children each gender has.\n",
    "* total_charges_per_region - Contains the total amount of money seperated by region.\n",
    "* total_smokers_per_region - Contains the total smokers seperated by region.\n"
   ]
  },
  {
   "cell_type": "markdown",
   "id": "e9864189-ad83-4f68-a3ab-84a955b734b3",
   "metadata": {},
   "source": [
    "# Methods\n",
    "\n",
    "* `average_age()`                - Calculates and returns the average age of all patients by summing up the ages and dividing by the number of patients\n",
    "* `average_charge()`             - Calculates and returns the average yearly charges by summing up the charges and dividing by the number of patients.\n",
    "* `male_female_charge_average()` - Returns a list with the average charges for males and females. It uses `total_charges_per_sex` and `sex_count` dictionaries to compute this.\n",
    "* `total_children_by_sex()`      - Returns a list with the total number of children for males and females, using the `total_children_per_sex` dictionary.\n",
    "* `total_pay_per_region()`       - Returns a dictionary where each region maps to its total charges, rounded to two decimal places. This is computed using the `total_charges_per_region` dictionary\n",
    "* `male_female_counter()`        - Returns the `sex_count` dictionary, showing the number of males and females\n",
    "* `smokers_per_region()`         - Returns the `total_smokers_per_region` dictionary, which contains the count of smokers for each region.\n",
    "* `total_pay_per_age_group()`    - Returns a dictionary tht groups total charges by age ranges (e.g. 19-, 20-29, 30-39, etc.), rounded to two decimal places. This uses the `total_charges_per_age_group` dictionary\n",
    "\n",
    "By leveraging these methods and dictionaries, the `Analysis class provides a comprehensive view of the data, enabling detailed insight into various aspects of patient information and their insurance charges."
   ]
  },
  {
   "cell_type": "code",
   "execution_count": 4,
   "id": "aece9fa7-d206-4d52-bd64-c2185072e03f",
   "metadata": {},
   "outputs": [],
   "source": [
    "class Analysis:\n",
    "    def __init__(self, ages, sexs, bmis, children, smokers, regions, charges):\n",
    "        # Initalize attributes with data lists\n",
    "        self.ages = ages\n",
    "        self.sexs = sexs\n",
    "        self.bmis = bmis\n",
    "        self.children = children\n",
    "        self.smokers = smokers\n",
    "        self.regions = regions\n",
    "        self.charges = charges\n",
    "\n",
    "        # Initialize dictionaries to aggregate data\n",
    "        self.sex_count = {'male': 0, 'female': 0}\n",
    "        self.total_charges_per_sex = {'male': 0.0, 'female': 0.0}\n",
    "        self.total_children_per_sex = {'male': 0, 'female': 0}\n",
    "        self.total_charges_per_region = {'southwest': 0.0, 'southeast': 0.0, 'northwest': 0.0, 'northeast': 0.0}\n",
    "        self.total_smokers_per_region = {'southwest': 0, 'southeast': 0, 'northwest': 0, 'northeast': 0}\n",
    "\n",
    "        # Populate dictionaries with data\n",
    "        for sex, charge, child, smoker, region in zip(sexs, charges, children, smokers, regions):\n",
    "            # Update the count of males and females\n",
    "            self.sex_count[sex] += 1\n",
    "            # Update the total charges for the gender\n",
    "            self.total_charges_per_sex[sex] += charge\n",
    "            # Updata the total number of children for the gender\n",
    "            self.total_children_per_sex[sex] += child\n",
    "            # Updata the total charges for the region\n",
    "            self.total_charges_per_region[region] += charge\n",
    "            # If patient is a smoker, increment the smoker count for the region\n",
    "            if smoker == 'yes':\n",
    "                self.total_smokers_per_region[region] += 1\n",
    "        \n",
    "    def average_age(self):\n",
    "        # Calculate average age of all patients, rounded to two decimal places\n",
    "        return round(sum(self.ages) / len(self.ages), 2)\n",
    "    \n",
    "    def average_charge(self):\n",
    "        # Calculate average charge of all patients, rounded to two decimal places\n",
    "        return round(sum(self.charges) / len(self.charges), 2)\n",
    "    \n",
    "    def male_female_charges_average(self):\n",
    "        # Calculate and return average charges for males and females\n",
    "        return [\n",
    "            round(self.total_charges_per_sex['male'] / self.sex_count['male'], 2),\n",
    "            round(self.total_charges_per_sex['female'] / self.sex_count['female'], 2)\n",
    "        ]\n",
    "    \n",
    "    def total_children_by_sex(self):\n",
    "        # Return total amount of children for males and females\n",
    "        return [ self.total_children_per_sex['male'], self.total_children_per_sex['female']]\n",
    "    \n",
    "    def total_pay_per_region(self):\n",
    "        # Iterate through total_charges_per_region and returns total pay rounded in two decimals\n",
    "        return {region: round(amount, 2) for region, amount in self.total_charges_per_region.items()}\n",
    "    \n",
    "    def male_female_counter(self):\n",
    "        # Returns a dictionary with counts of males and females\n",
    "        return self.sex_count\n",
    "\n",
    "    def smokers_per_region(self):\n",
    "        # Returns a dictionary with counts of smokers per region\n",
    "        return self.total_smokers_per_region\n",
    "    \n",
    "    def total_pay_per_age_group(self):\n",
    "        # Initializes a dictionary to group total charges by age ranges\n",
    "        age_groups = {'19-': 0, '20-29': 0, '30-39': 0, '40-49': 0, '50-59': 0, '60+': 0}\n",
    "        # Iterates over ages and accumulates them into age_groups dictionary\n",
    "        for age, charge in zip(self.ages, self.charges):\n",
    "            if age < 20: age_groups['19-'] += charge\n",
    "            elif age < 30: age_groups['20-29'] += charge\n",
    "            elif age < 40: age_groups['30-39'] += charge\n",
    "            elif age < 50: age_groups['40-49'] += charge\n",
    "            elif age < 60: age_groups['50-59'] += charge\n",
    "            else: age_groups['60+'] += charge\n",
    "        # Returns dictionary with age groups and total charges rounded to two decimals\n",
    "        return {group: round(amount, 2) for group, amount in age_groups.items()}"
   ]
  },
  {
   "cell_type": "markdown",
   "id": "7a72d34d-eb43-4029-84ea-fc4f56cdbcdf",
   "metadata": {},
   "source": [
    "I then created an instance of class `Analysis` with the data that I attained from insurance.csv\n",
    "Creating this class also calls the constructor which auto inserts data into the analysis variable."
   ]
  },
  {
   "cell_type": "code",
   "execution_count": 5,
   "id": "d759273d-87eb-4c9c-8f7a-fba2291adfcd",
   "metadata": {},
   "outputs": [],
   "source": [
    "analysis = Analysis(ages, sexs, bmis, children, smokers, regions, charges)"
   ]
  },
  {
   "cell_type": "markdown",
   "id": "d1ffd9af-63ef-42d8-a6d6-e2a9e86156ec",
   "metadata": {},
   "source": [
    "# Results"
   ]
  },
  {
   "cell_type": "code",
   "execution_count": 6,
   "id": "34ffa509-1762-43a3-a76d-72c92704a43d",
   "metadata": {},
   "outputs": [
    {
     "name": "stdout",
     "output_type": "stream",
     "text": [
      "Average Age: 39.21\n",
      "Average Charge: 13270.42\n",
      "Sex Distribution: {'male': 676, 'female': 662}\n",
      "Total Children by Sex: [754, 711]\n"
     ]
    }
   ],
   "source": [
    "print(\"Average Age:\", analysis.average_age())\n",
    "print(\"Average Charge:\", analysis.average_charge())\n",
    "print(\"Sex Distribution:\", analysis.male_female_counter())\n",
    "print(\"Total Children by Sex:\", analysis.total_children_by_sex())"
   ]
  },
  {
   "cell_type": "markdown",
   "id": "b4cc9113-90c3-474c-8717-7687982c6d65",
   "metadata": {},
   "source": [
    "These functions were mainly made to estimate and verify that there was a wide variety of stastics chosen and they came out to a fair outcome.\n",
    "\n",
    "Considering our ages range from 18-64, 39 is espected\n",
    "Considering our charges range from $1121 to $63770, a charge of 13000 seems low however the quantity of charges around that value justify it.\n",
    "Since the sex distribution and children distribution are fairly close, we can consider this dataset to be fair."
   ]
  },
  {
   "cell_type": "code",
   "execution_count": 7,
   "id": "bdebbdd1-78f0-40c2-8473-64f1363847ee",
   "metadata": {},
   "outputs": [
    {
     "name": "stdout",
     "output_type": "stream",
     "text": [
      "Average Charges by Sex: [13956.75, 12569.58]\n",
      "Charges by Age Group: {'19-': 1151806.85, '20-29': 2677290.29, '30-39': 3016867.52, '40-49': 4017377.79, '50-59': 4470208.05, '60+': 2422274.49}\n"
     ]
    }
   ],
   "source": [
    "print(\"Average Charges by Sex:\", analysis.male_female_charges_average())\n",
    "print(\"Charges by Age Group:\", analysis.total_pay_per_age_group())"
   ]
  },
  {
   "cell_type": "markdown",
   "id": "42c40a69-d312-4e6d-bb5e-2be17877a622",
   "metadata": {},
   "source": [
    "From viewing these results we can make 2 claims\n",
    "Males pay, on average, $1380 more than females.\n",
    "The majority of income is coming from people of the age 40-59."
   ]
  },
  {
   "cell_type": "code",
   "execution_count": 8,
   "id": "be13858a-b066-4cd6-b8ee-ff28e3be58d1",
   "metadata": {},
   "outputs": [
    {
     "name": "stdout",
     "output_type": "stream",
     "text": [
      "Smokers by Region: {'southwest': 58, 'southeast': 91, 'northwest': 58, 'northeast': 67}\n",
      "Total Charges by Region: {'southwest': 4012754.65, 'southeast': 5363689.76, 'northwest': 4035712.0, 'northeast': 4343668.58}\n"
     ]
    }
   ],
   "source": [
    "print(\"Smokers by Region:\", analysis.smokers_per_region())\n",
    "print(\"Total Charges by Region:\", analysis.total_pay_per_region())"
   ]
  },
  {
   "cell_type": "markdown",
   "id": "40fd4754-08a5-477c-8757-f9eedf22e816",
   "metadata": {},
   "source": [
    "From comparing these results, we find that all three regions (southwest, northwest, and northeast) that have nearly identical smoker counts, have around the same pay range while southeast which has nearly 25 more smokers has a higher income by ~ 1.2M in costs. "
   ]
  }
 ],
 "metadata": {
  "kernelspec": {
   "display_name": "Python 3 (ipykernel)",
   "language": "python",
   "name": "python3"
  },
  "language_info": {
   "codemirror_mode": {
    "name": "ipython",
    "version": 3
   },
   "file_extension": ".py",
   "mimetype": "text/x-python",
   "name": "python",
   "nbconvert_exporter": "python",
   "pygments_lexer": "ipython3",
   "version": "3.12.4"
  }
 },
 "nbformat": 4,
 "nbformat_minor": 5
}
